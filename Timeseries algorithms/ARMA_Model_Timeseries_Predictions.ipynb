{
  "nbformat": 4,
  "nbformat_minor": 0,
  "metadata": {
    "colab": {
      "name": "ARMA Model - Timeseries Predictions.ipynb",
      "provenance": []
    },
    "kernelspec": {
      "name": "python3",
      "display_name": "Python 3"
    }
  },
  "cells": [
    {
      "cell_type": "code",
      "metadata": {
        "id": "g9NGhLYeXTBu"
      },
      "source": [
        "rm -rf sample_data/"
      ],
      "execution_count": 1,
      "outputs": []
    },
    {
      "cell_type": "code",
      "metadata": {
        "colab": {
          "base_uri": "https://localhost:8080/",
          "height": 36
        },
        "id": "EpX-m8mTX6Ir",
        "outputId": "791fd43c-a8a8-4c5c-e60c-afba4c10cf6a"
      },
      "source": [
        "pwd"
      ],
      "execution_count": 2,
      "outputs": [
        {
          "output_type": "execute_result",
          "data": {
            "application/vnd.google.colaboratory.intrinsic+json": {
              "type": "string"
            },
            "text/plain": [
              "'/content'"
            ]
          },
          "metadata": {
            "tags": []
          },
          "execution_count": 2
        }
      ]
    },
    {
      "cell_type": "markdown",
      "metadata": {
        "id": "dXsLvK2YX94Y"
      },
      "source": [
        "#### upload wheat_bangalore.csv to /content folder"
      ]
    },
    {
      "cell_type": "code",
      "metadata": {
        "colab": {
          "base_uri": "https://localhost:8080/"
        },
        "id": "JK-Bf09VX7fa",
        "outputId": "55e25f16-9052-47ed-c2c3-64dfe9cece79"
      },
      "source": [
        "ls"
      ],
      "execution_count": 4,
      "outputs": [
        {
          "output_type": "stream",
          "text": [
            "Wheat_Bangalore.csv\n"
          ],
          "name": "stdout"
        }
      ]
    },
    {
      "cell_type": "code",
      "metadata": {
        "colab": {
          "base_uri": "https://localhost:8080/",
          "height": 399
        },
        "id": "OIZoezOiZS5P",
        "outputId": "f394f3e7-a3ea-4d9a-eb27-99f7fc58b57b"
      },
      "source": [
        "pip install statsmodels --upgrade"
      ],
      "execution_count": 6,
      "outputs": [
        {
          "output_type": "stream",
          "text": [
            "Collecting statsmodels\n",
            "\u001b[?25l  Downloading https://files.pythonhosted.org/packages/da/69/8eef30a6237c54f3c0b524140e2975f4b1eea3489b45eb3339574fc8acee/statsmodels-0.12.2-cp37-cp37m-manylinux1_x86_64.whl (9.5MB)\n",
            "\u001b[K     |████████████████████████████████| 9.5MB 5.5MB/s \n",
            "\u001b[?25hRequirement already satisfied, skipping upgrade: patsy>=0.5 in /usr/local/lib/python3.7/dist-packages (from statsmodels) (0.5.1)\n",
            "Requirement already satisfied, skipping upgrade: scipy>=1.1 in /usr/local/lib/python3.7/dist-packages (from statsmodels) (1.4.1)\n",
            "Requirement already satisfied, skipping upgrade: pandas>=0.21 in /usr/local/lib/python3.7/dist-packages (from statsmodels) (1.1.5)\n",
            "Requirement already satisfied, skipping upgrade: numpy>=1.15 in /usr/local/lib/python3.7/dist-packages (from statsmodels) (1.19.5)\n",
            "Requirement already satisfied, skipping upgrade: six in /usr/local/lib/python3.7/dist-packages (from patsy>=0.5->statsmodels) (1.15.0)\n",
            "Requirement already satisfied, skipping upgrade: python-dateutil>=2.7.3 in /usr/local/lib/python3.7/dist-packages (from pandas>=0.21->statsmodels) (2.8.1)\n",
            "Requirement already satisfied, skipping upgrade: pytz>=2017.2 in /usr/local/lib/python3.7/dist-packages (from pandas>=0.21->statsmodels) (2018.9)\n",
            "Installing collected packages: statsmodels\n",
            "  Found existing installation: statsmodels 0.10.2\n",
            "    Uninstalling statsmodels-0.10.2:\n",
            "      Successfully uninstalled statsmodels-0.10.2\n",
            "Successfully installed statsmodels-0.12.2\n"
          ],
          "name": "stdout"
        },
        {
          "output_type": "display_data",
          "data": {
            "application/vnd.colab-display-data+json": {
              "pip_warning": {
                "packages": [
                  "statsmodels"
                ]
              }
            }
          },
          "metadata": {
            "tags": []
          }
        }
      ]
    },
    {
      "cell_type": "code",
      "metadata": {
        "colab": {
          "base_uri": "https://localhost:8080/"
        },
        "id": "tk_oDRTLX_FZ",
        "outputId": "8cc61232-1cc4-4aeb-c038-7a4428920968"
      },
      "source": [
        "from pandas import datetime, read_csv, DataFrame\r\n",
        "from statsmodels.tsa.arima.model import ARIMA\r\n",
        "from matplotlib import pyplot as plt\r\n",
        "from sklearn.metrics import mean_squared_error\r\n",
        "from math import sqrt"
      ],
      "execution_count": 2,
      "outputs": [
        {
          "output_type": "stream",
          "text": [
            "/usr/local/lib/python3.7/dist-packages/ipykernel_launcher.py:1: FutureWarning: The pandas.datetime class is deprecated and will be removed from pandas in a future version. Import from datetime module instead.\n",
            "  \"\"\"Entry point for launching an IPython kernel.\n"
          ],
          "name": "stderr"
        }
      ]
    },
    {
      "cell_type": "code",
      "metadata": {
        "id": "gU63fjv-Ycj4"
      },
      "source": [
        "# date format in data\r\n",
        "dateparser = lambda x: datetime.strptime(x, '%Y-%m-%d')"
      ],
      "execution_count": 3,
      "outputs": []
    },
    {
      "cell_type": "code",
      "metadata": {
        "colab": {
          "base_uri": "https://localhost:8080/"
        },
        "id": "7dbFYlmwZ0il",
        "outputId": "477d547b-36a4-40e1-fc9a-716391d555f1"
      },
      "source": [
        "# read data from csv file\r\n",
        "series = read_csv('Wheat_Bangalore.csv', usecols=['Date','MeanPrice(Rs./Quintal)'], index_col=0, parse_dates=True, date_parser=dateparser, squeeze=True)\r\n",
        "series"
      ],
      "execution_count": 11,
      "outputs": [
        {
          "output_type": "execute_result",
          "data": {
            "text/plain": [
              "Date\n",
              "2002-01-01    1100\n",
              "2002-06-01    1200\n",
              "2002-07-01    1184\n",
              "2002-08-01    1176\n",
              "2002-11-01    1150\n",
              "              ... \n",
              "2019-06-01    2900\n",
              "2019-07-01    2900\n",
              "2019-08-01    2900\n",
              "2019-11-01    3014\n",
              "2019-12-01    2700\n",
              "Name: MeanPrice(Rs./Quintal), Length: 106, dtype: int64"
            ]
          },
          "metadata": {
            "tags": []
          },
          "execution_count": 11
        }
      ]
    },
    {
      "cell_type": "code",
      "metadata": {
        "id": "22EPG1JTaX2D"
      },
      "source": [
        "series.index = series.index.to_period('d')"
      ],
      "execution_count": 12,
      "outputs": []
    },
    {
      "cell_type": "code",
      "metadata": {
        "colab": {
          "base_uri": "https://localhost:8080/"
        },
        "id": "FgTsCm10afz4",
        "outputId": "ce866d5e-dafa-40af-df5b-acf9fda8b7d6"
      },
      "source": [
        "# divide into test and train\r\n",
        "X = series.values\r\n",
        "train, test = X[1:len(X)-7], X[len(X)-7:]\r\n",
        "print(series)"
      ],
      "execution_count": 17,
      "outputs": [
        {
          "output_type": "stream",
          "text": [
            "Date\n",
            "2002-01-01    1100\n",
            "2002-06-01    1200\n",
            "2002-07-01    1184\n",
            "2002-08-01    1176\n",
            "2002-11-01    1150\n",
            "              ... \n",
            "2019-06-01    2900\n",
            "2019-07-01    2900\n",
            "2019-08-01    2900\n",
            "2019-11-01    3014\n",
            "2019-12-01    2700\n",
            "Freq: D, Name: MeanPrice(Rs./Quintal), Length: 106, dtype: int64\n"
          ],
          "name": "stdout"
        }
      ]
    },
    {
      "cell_type": "code",
      "metadata": {
        "colab": {
          "base_uri": "https://localhost:8080/"
        },
        "id": "827KYWIFa1KF",
        "outputId": "c99d37d4-f3ce-4294-abb7-3fccc5d835ce"
      },
      "source": [
        "# For a non-differenced series, \r\n",
        "# the number of lags for AR = 9 (from ACF)\r\n",
        "# number of lags for MA = 1 (from PACF)\r\n",
        "# check \"undertanding timeseries Data.ipynb\"\r\n",
        "model = ARIMA(train, order = (9,0,1))\r\n",
        "model_fit = model.fit()\r\n",
        "print(model_fit.summary())"
      ],
      "execution_count": 18,
      "outputs": [
        {
          "output_type": "stream",
          "text": [
            "                               SARIMAX Results                                \n",
            "==============================================================================\n",
            "Dep. Variable:                      y   No. Observations:                   98\n",
            "Model:                 ARIMA(9, 0, 1)   Log Likelihood                -619.034\n",
            "Date:                Sat, 27 Feb 2021   AIC                           1262.067\n",
            "Time:                        12:26:20   BIC                           1293.087\n",
            "Sample:                             0   HQIC                          1274.614\n",
            "                                 - 98                                         \n",
            "Covariance Type:                  opg                                         \n",
            "==============================================================================\n",
            "                 coef    std err          z      P>|z|      [0.025      0.975]\n",
            "------------------------------------------------------------------------------\n",
            "const       1920.4887    600.692      3.197      0.001     743.154    3097.824\n",
            "ar.L1          0.3570      1.950      0.183      0.855      -3.465       4.179\n",
            "ar.L2          0.4230      1.483      0.285      0.775      -2.483       3.329\n",
            "ar.L3          0.1363      0.335      0.406      0.685      -0.521       0.794\n",
            "ar.L4          0.0541      0.172      0.314      0.754      -0.284       0.392\n",
            "ar.L5          0.1219      0.174      0.701      0.483      -0.219       0.463\n",
            "ar.L6         -0.0471      0.262     -0.180      0.857      -0.560       0.466\n",
            "ar.L7         -0.0768      0.236     -0.326      0.744      -0.538       0.385\n",
            "ar.L8          0.0777      0.298      0.261      0.794      -0.506       0.662\n",
            "ar.L9         -0.0668      0.258     -0.259      0.796      -0.572       0.438\n",
            "ma.L1          0.3863      1.966      0.196      0.844      -3.468       4.241\n",
            "sigma2      1.731e+04   2523.311      6.861      0.000    1.24e+04    2.23e+04\n",
            "===================================================================================\n",
            "Ljung-Box (L1) (Q):                   0.04   Jarque-Bera (JB):                29.78\n",
            "Prob(Q):                              0.85   Prob(JB):                         0.00\n",
            "Heteroskedasticity (H):               0.76   Skew:                            -0.54\n",
            "Prob(H) (two-sided):                  0.43   Kurtosis:                         5.47\n",
            "===================================================================================\n",
            "\n",
            "Warnings:\n",
            "[1] Covariance matrix calculated using the outer product of gradients (complex-step).\n"
          ],
          "name": "stdout"
        }
      ]
    },
    {
      "cell_type": "code",
      "metadata": {
        "colab": {
          "base_uri": "https://localhost:8080/"
        },
        "id": "KykJhL-lcDkP",
        "outputId": "c2fd55a7-d6a5-459a-c62e-07731771a34c"
      },
      "source": [
        "# make predictions\r\n",
        "predictions = model_fit.predict(start=len(train), end=len(train)+len(test)-1, dynamic=False)\r\n",
        "\r\n",
        "for i in range(len(predictions)):\r\n",
        "  print(\"predicted=%f, expected=%f\"%(predictions[i],test[i]))"
      ],
      "execution_count": 19,
      "outputs": [
        {
          "output_type": "stream",
          "text": [
            "predicted=2737.151554, expected=2750.000000\n",
            "predicted=2675.345511, expected=2750.000000\n",
            "predicted=2705.602361, expected=2900.000000\n",
            "predicted=2683.281093, expected=2900.000000\n",
            "predicted=2679.332954, expected=2900.000000\n",
            "predicted=2670.138354, expected=3014.000000\n",
            "predicted=2653.878128, expected=2700.000000\n"
          ],
          "name": "stdout"
        }
      ]
    },
    {
      "cell_type": "code",
      "metadata": {
        "colab": {
          "base_uri": "https://localhost:8080/"
        },
        "id": "tcbRbXd-c_n-",
        "outputId": "232b53d6-e6e3-49dc-beb8-60c1413244e0"
      },
      "source": [
        "# error calculations\r\n",
        "rmse = sqrt(mean_squared_error(test, predictions))\r\n",
        "print(f\"RMSE: {rmse}\")"
      ],
      "execution_count": 20,
      "outputs": [
        {
          "output_type": "stream",
          "text": [
            "RMSE: 192.5609014970066\n"
          ],
          "name": "stdout"
        }
      ]
    },
    {
      "cell_type": "code",
      "metadata": {
        "colab": {
          "base_uri": "https://localhost:8080/",
          "height": 265
        },
        "id": "sxG3DbJcdP7m",
        "outputId": "af3e7c7c-aecf-489f-e23e-fa9ad52bd43f"
      },
      "source": [
        "# plot actual values and predicted values\r\n",
        "plt.plot(test, label='Actual')\r\n",
        "plt.plot(predictions, color='red', label='Predicted')\r\n",
        "plt.legend()\r\n",
        "plt.show()"
      ],
      "execution_count": 21,
      "outputs": [
        {
          "output_type": "display_data",
          "data": {
            "image/png": "[encoded data removed]",
            "text/plain": [
              "<Figure size 432x288 with 1 Axes>"
            ]
          },
          "metadata": {
            "tags": [],
            "needs_background": "light"
          }
        }
      ]
    },
    {
      "cell_type": "code",
      "metadata": {
        "id": "_1zx3887ddJe"
      },
      "source": [
        ""
      ],
      "execution_count": null,
      "outputs": []
    }
  ]
}