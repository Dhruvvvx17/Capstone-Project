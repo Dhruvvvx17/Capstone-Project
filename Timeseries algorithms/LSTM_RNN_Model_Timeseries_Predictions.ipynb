{
  "nbformat": 4,
  "nbformat_minor": 0,
  "metadata": {
    "colab": {
      "name": "LSTM RNN Model - Timeseries Predictions.ipynb",
      "provenance": []
    },
    "kernelspec": {
      "name": "python3",
      "display_name": "Python 3"
    }
  },
  "cells": [
    {
      "cell_type": "code",
      "metadata": {
        "id": "ZlYydsRwgxJ8"
      },
      "source": [
        "rm -rf sample_data/"
      ],
      "execution_count": 1,
      "outputs": []
    },
    {
      "cell_type": "code",
      "metadata": {
        "colab": {
          "base_uri": "https://localhost:8080/",
          "height": 36
        },
        "id": "Jsjm0egYh18O",
        "outputId": "2b2afe82-5fc2-426e-b3cd-4ae9abe56a91"
      },
      "source": [
        "pwd"
      ],
      "execution_count": 2,
      "outputs": [
        {
          "output_type": "execute_result",
          "data": {
            "application/vnd.google.colaboratory.intrinsic+json": {
              "type": "string"
            },
            "text/plain": [
              "'/content'"
            ]
          },
          "metadata": {
            "tags": []
          },
          "execution_count": 2
        }
      ]
    },
    {
      "cell_type": "markdown",
      "metadata": {
        "id": "yNgVxLMHiGxB"
      },
      "source": [
        "#### upload wheat_bangalore.csv to /content folder"
      ]
    },
    {
      "cell_type": "code",
      "metadata": {
        "colab": {
          "base_uri": "https://localhost:8080/"
        },
        "id": "GpSospGuh3wq",
        "outputId": "4e6d95d2-482c-4198-af23-66c94135c9f3"
      },
      "source": [
        "ls"
      ],
      "execution_count": 3,
      "outputs": [
        {
          "output_type": "stream",
          "text": [
            "Wheat_Bangalore.csv\n"
          ],
          "name": "stdout"
        }
      ]
    },
    {
      "cell_type": "code",
      "metadata": {
        "colab": {
          "base_uri": "https://localhost:8080/"
        },
        "id": "rrC_f02kiB6a",
        "outputId": "58e0d82e-f209-481b-f4a0-2a5d62948e0f"
      },
      "source": [
        "# import statements\r\n",
        "from pandas import DataFrame, read_csv, Series, concat, datetime\r\n",
        "from sklearn.metrics import mean_squared_error\r\n",
        "from sklearn.preprocessing import MinMaxScaler\r\n",
        "from keras.models import Sequential\r\n",
        "from keras.layers import Dense, LSTM\r\n",
        "from math import sqrt\r\n",
        "from matplotlib import pyplot as plt\r\n",
        "import numpy"
      ],
      "execution_count": 5,
      "outputs": [
        {
          "output_type": "stream",
          "text": [
            "/usr/local/lib/python3.7/dist-packages/ipykernel_launcher.py:2: FutureWarning: The pandas.datetime class is deprecated and will be removed from pandas in a future version. Import from datetime module instead.\n",
            "  \n"
          ],
          "name": "stderr"
        }
      ]
    },
    {
      "cell_type": "markdown",
      "metadata": {
        "id": "wAO4v7Qgivje"
      },
      "source": [
        "### Data Preprocessing Functions"
      ]
    },
    {
      "cell_type": "code",
      "metadata": {
        "id": "-RJ5MEYaiIR5"
      },
      "source": [
        "# date-time parsing function (dataset dependent)\r\n",
        "def dateparser(x):\r\n",
        "  return datetime.strptime(x, '%Y-%m-%d')\r\n",
        "\r\n",
        "\r\n",
        "# convert data to frame problem as supervised learning problem (addding a column of lagged values)\r\n",
        "def timeseries_to_supervised(data, lag=1):\r\n",
        "  df = DataFrame(data)\r\n",
        "  columns = [df.shift(i) for i in range(1, lag+1)]\r\n",
        "  columns.append(df)\r\n",
        "  df = concat(columns, axis=1)\r\n",
        "  df.fillna(0, inplace=True)\r\n",
        "  return df\r\n",
        "\r\n",
        "# create a differenced series\r\n",
        "def difference(dataset, interval=1):\r\n",
        "  diff = list()\r\n",
        "  for i in range(interval, len(dataset)):\r\n",
        "    value = dataset[i] - dataset[i-interval]\r\n",
        "    diff.append(value)\r\n",
        "  return Series(diff)\r\n",
        "\r\n",
        "\r\n",
        "# inverting differenced value\r\n",
        "def inverse_difference(history, y_predicted, interval=1):\r\n",
        "  return y_predicted + history[-interval]\r\n",
        "\r\n",
        "\r\n",
        "# scale data (test and train) between 1 and -1\r\n",
        "def scale(train, test):\r\n",
        "  # fit scaler\r\n",
        "  scaler = MinMaxScaler(feature_range=(-1,1))\r\n",
        "  scaler = scaler.fit(train)\r\n",
        "\r\n",
        "  # transform train\r\n",
        "  train = train.reshape(train.shape[0], train.shape[1])\r\n",
        "  train_scaled = scaler.transform(train)\r\n",
        "\r\n",
        "  # transform test\r\n",
        "  test = test.reshape(test.shape[0], test.shape[1])\r\n",
        "  test_scaled = scaler.transform(test)\r\n",
        "\r\n",
        "  return scaler, train_scaled, test_scaled\r\n",
        "\r\n",
        "\r\n",
        "# inverse scaling for a forecasted value\r\n",
        "def inverse_scale(scaler, X, value):\r\n",
        "  new_row = [x for x in X] + [value]\r\n",
        "  array = numpy.array(new_row)\r\n",
        "  array = array.reshape(1, len(array))\r\n",
        "  inverted = scaler.inverse_transform(array)\r\n",
        "  return inverted[0,-1]"
      ],
      "execution_count": 11,
      "outputs": []
    },
    {
      "cell_type": "markdown",
      "metadata": {
        "id": "BgT45aJ9lXO2"
      },
      "source": [
        "#### Fit and Predicted functions"
      ]
    },
    {
      "cell_type": "code",
      "metadata": {
        "id": "V8_CTbWajeJN"
      },
      "source": [
        "# fit an LSTM network on training data\r\n",
        "def fit_lstm(train, batch_size, nb_epochs, neurons):\r\n",
        "  X,y = train[:,0:-1], train[:,-1]\r\n",
        "  X = X.reshape(X.shape[0], 1, X.shape[1])    #samples, timestamps, features\r\n",
        "\r\n",
        "  # model\r\n",
        "  model = Sequential()\r\n",
        "  model.add(LSTM(neurons, batch_input_shape=(batch_size, X.shape[1], X.shape[2]),stateful=True))\r\n",
        "  model.add(Dense(1))\r\n",
        "\r\n",
        "  model.compile(loss='mean_squared_error', optimizer='adam')\r\n",
        "\r\n",
        "  for i in range(nb_epochs):\r\n",
        "    model.fit(X, y, epochs=1, batch_size=batch_size, shuffle=False)\r\n",
        "    model.reset_states()\r\n",
        "  return model\r\n",
        "\r\n",
        "\r\n",
        "# make a one-step forecast\r\n",
        "def forecast_lstm(model, batch_size, X):\r\n",
        "  X = X.reshape(1,1,len(X))\r\n",
        "  y_predicted = model.predict(X, batch_size=batch_size)\r\n",
        "  return y_predicted[0,0]"
      ],
      "execution_count": 12,
      "outputs": []
    },
    {
      "cell_type": "markdown",
      "metadata": {
        "id": "A4fy7QWemu3b"
      },
      "source": [
        "#### MAIN and function calls"
      ]
    },
    {
      "cell_type": "code",
      "metadata": {
        "colab": {
          "base_uri": "https://localhost:8080/"
        },
        "id": "mwhAKVE8mo84",
        "outputId": "8dedcfc6-748e-4b0d-ef96-dbd0708447d7"
      },
      "source": [
        "# load dataset\r\n",
        "series = read_csv('Wheat_Bangalore.csv', usecols=['Date','MeanPrice(Rs./Quintal)'],header=0, index_col=0, parse_dates=[0], date_parser=dateparser, squeeze=True)\r\n",
        "series\r\n",
        "\r\n",
        "# transform data to be stationary\r\n",
        "raw_values = series.values\r\n",
        "diff_values = difference(raw_values,1)\r\n",
        "\r\n",
        "# transform data to be supervised\r\n",
        "supervised = timeseries_to_supervised(diff_values,1)\r\n",
        "supervised_values = supervised.values\r\n",
        "\r\n",
        "# split data into train and test dataset\r\n",
        "train, test = supervised_values[:-8], supervised_values[-8:]\r\n",
        "\r\n",
        "# transform the scale of data\r\n",
        "scaler, train_scaled, test_scaled = scale(train, test)\r\n",
        "\r\n",
        "\r\n",
        "# fit the model\r\n",
        "lstm_model = fit_lstm(train_scaled, 1, 50, 4)\r\n",
        "\r\n",
        "\r\n",
        "# forecast entire dataset to build state for forecasting(?)\r\n",
        "train_reshaped = train_scaled[:,0].reshape(len(train_scaled),1,1)\r\n",
        "lstm_model.predict(train_reshaped, batch_size=1)\r\n",
        "\r\n",
        "\r\n",
        "predictions = list()\r\n",
        "for i in range(len(test_scaled)):\r\n",
        "  # make one-step forecast\r\n",
        "  X,y = test_scaled[i,0:-1], test_scaled[i,-1]\r\n",
        "  y_predicted = forecast_lstm(lstm_model, 1, X)\r\n",
        "\r\n",
        "  # invert scaling\r\n",
        "  y_predicted = inverse_scale(scaler, X, y_predicted)\r\n",
        "\r\n",
        "  # invert differencing\r\n",
        "  y_predicted = inverse_difference(raw_values, y_predicted, len(test_scaled)+1-i)\r\n",
        "\r\n",
        "  # store forecast\r\n",
        "  predictions.append(y_predicted)\r\n",
        "  expected = raw_values[len(train)+i+1]\r\n",
        "\r\n",
        "  print('Prediction=%d, Predicted=%f, Actual=%f'%(i+1, y_predicted, expected))"
      ],
      "execution_count": 23,
      "outputs": [
        {
          "output_type": "stream",
          "text": [
            "97/97 [==============================] - 1s 1ms/step - loss: 0.0765\n",
            "97/97 [==============================] - 0s 1ms/step - loss: 0.0900\n",
            "97/97 [==============================] - 0s 1ms/step - loss: 0.0887\n",
            "97/97 [==============================] - 0s 1ms/step - loss: 0.0876\n",
            "97/97 [==============================] - 0s 1ms/step - loss: 0.0867\n",
            "97/97 [==============================] - 0s 1ms/step - loss: 0.0860\n",
            "97/97 [==============================] - 0s 1ms/step - loss: 0.0854\n",
            "97/97 [==============================] - 0s 1ms/step - loss: 0.0850\n",
            "97/97 [==============================] - 0s 1ms/step - loss: 0.0846\n",
            "97/97 [==============================] - 0s 1ms/step - loss: 0.0843\n",
            "97/97 [==============================] - 0s 1ms/step - loss: 0.0841\n",
            "97/97 [==============================] - 0s 1ms/step - loss: 0.0839\n",
            "97/97 [==============================] - 0s 1ms/step - loss: 0.0837\n",
            "97/97 [==============================] - 0s 1ms/step - loss: 0.0836\n",
            "97/97 [==============================] - 0s 1ms/step - loss: 0.0835\n",
            "97/97 [==============================] - 0s 1ms/step - loss: 0.0834\n",
            "97/97 [==============================] - 0s 1ms/step - loss: 0.0833\n",
            "97/97 [==============================] - 0s 1ms/step - loss: 0.0833\n",
            "97/97 [==============================] - 0s 1ms/step - loss: 0.0832\n",
            "97/97 [==============================] - 0s 1ms/step - loss: 0.0832\n",
            "97/97 [==============================] - 0s 1ms/step - loss: 0.0831\n",
            "97/97 [==============================] - 0s 1ms/step - loss: 0.0831\n",
            "97/97 [==============================] - 0s 1ms/step - loss: 0.0830\n",
            "97/97 [==============================] - 0s 1ms/step - loss: 0.0830\n",
            "97/97 [==============================] - 0s 1ms/step - loss: 0.0829\n",
            "97/97 [==============================] - 0s 1ms/step - loss: 0.0829\n",
            "97/97 [==============================] - 0s 1ms/step - loss: 0.0829\n",
            "97/97 [==============================] - 0s 1ms/step - loss: 0.0828\n",
            "97/97 [==============================] - 0s 1ms/step - loss: 0.0828\n",
            "97/97 [==============================] - 0s 1ms/step - loss: 0.0828\n",
            "97/97 [==============================] - 0s 1ms/step - loss: 0.0828\n",
            "97/97 [==============================] - 0s 1ms/step - loss: 0.0827\n",
            "97/97 [==============================] - 0s 1ms/step - loss: 0.0827\n",
            "97/97 [==============================] - 0s 1ms/step - loss: 0.0827\n",
            "97/97 [==============================] - 0s 1ms/step - loss: 0.0827\n",
            "97/97 [==============================] - 0s 2ms/step - loss: 0.0826\n",
            "97/97 [==============================] - 0s 1ms/step - loss: 0.0826\n",
            "97/97 [==============================] - 0s 1ms/step - loss: 0.0826\n",
            "97/97 [==============================] - 0s 1ms/step - loss: 0.0826\n",
            "97/97 [==============================] - 0s 1ms/step - loss: 0.0826\n",
            "97/97 [==============================] - 0s 1ms/step - loss: 0.0825\n",
            "97/97 [==============================] - 0s 1ms/step - loss: 0.0825\n",
            "97/97 [==============================] - 0s 1ms/step - loss: 0.0825\n",
            "97/97 [==============================] - 0s 2ms/step - loss: 0.0825\n",
            "97/97 [==============================] - 0s 1ms/step - loss: 0.0825\n",
            "97/97 [==============================] - 0s 1ms/step - loss: 0.0825\n",
            "97/97 [==============================] - 0s 1ms/step - loss: 0.0825\n",
            "97/97 [==============================] - 0s 1ms/step - loss: 0.0824\n",
            "97/97 [==============================] - 0s 1ms/step - loss: 0.0824\n",
            "97/97 [==============================] - 0s 1ms/step - loss: 0.0824\n",
            "Prediction=1, Predicted=2748.773737, Actual=2750.000000\n",
            "Prediction=2, Predicted=2781.180969, Actual=2750.000000\n",
            "Prediction=3, Predicted=2786.583818, Actual=2750.000000\n",
            "Prediction=4, Predicted=2789.292054, Actual=2900.000000\n",
            "Prediction=5, Predicted=2892.741393, Actual=2900.000000\n",
            "Prediction=6, Predicted=2916.477136, Actual=2900.000000\n",
            "Prediction=7, Predicted=2927.370101, Actual=3014.000000\n",
            "Prediction=8, Predicted=3009.637066, Actual=2700.000000\n"
          ],
          "name": "stdout"
        }
      ]
    },
    {
      "cell_type": "code",
      "metadata": {
        "colab": {
          "base_uri": "https://localhost:8080/"
        },
        "id": "kIpbo9GwnHJ3",
        "outputId": "fadc84a6-e58a-4cf5-b398-563e5466d1be"
      },
      "source": [
        "# error calculation\r\n",
        "rmse = sqrt(mean_squared_error(raw_values[-8:],predictions))\r\n",
        "print(f\"rmse: {rmse}\")"
      ],
      "execution_count": 24,
      "outputs": [
        {
          "output_type": "stream",
          "text": [
            "rmse: 121.58968770903982\n"
          ],
          "name": "stdout"
        }
      ]
    },
    {
      "cell_type": "code",
      "metadata": {
        "colab": {
          "base_uri": "https://localhost:8080/",
          "height": 265
        },
        "id": "D08rdVIkplg8",
        "outputId": "fa0268ba-682a-478e-81f5-638dbef63995"
      },
      "source": [
        "# plot predicted and actual values\r\n",
        "plt.plot(raw_values[-8:], label='Actual')\r\n",
        "plt.plot(predictions, color='red', label='Predicted')\r\n",
        "plt.legend()\r\n",
        "plt.show()"
      ],
      "execution_count": 25,
      "outputs": [
        {
          "output_type": "display_data",
          "data": {
            "image/png": "[encoded data removed]",
            "text/plain": [
              "<Figure size 432x288 with 1 Axes>"
            ]
          },
          "metadata": {
            "tags": [],
            "needs_background": "light"
          }
        }
      ]
    },
    {
      "cell_type": "code",
      "metadata": {
        "id": "a6CAypWlp6OX"
      },
      "source": [
        ""
      ],
      "execution_count": null,
      "outputs": []
    }
  ]
}