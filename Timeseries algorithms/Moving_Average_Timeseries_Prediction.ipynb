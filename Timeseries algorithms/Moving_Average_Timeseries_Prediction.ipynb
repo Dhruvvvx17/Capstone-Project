{
  "nbformat": 4,
  "nbformat_minor": 0,
  "metadata": {
    "colab": {
      "name": "Moving Average - Timeseries Prediction.ipynb",
      "provenance": []
    },
    "kernelspec": {
      "name": "python3",
      "display_name": "Python 3"
    }
  },
  "cells": [
    {
      "cell_type": "code",
      "metadata": {
        "id": "cNL4MTMmR5jD"
      },
      "source": [
        "rm -rf sample_data/"
      ],
      "execution_count": 1,
      "outputs": []
    },
    {
      "cell_type": "code",
      "metadata": {
        "colab": {
          "base_uri": "https://localhost:8080/",
          "height": 36
        },
        "id": "zuxujiOvSLG5",
        "outputId": "bf5b91e1-7c0e-466f-e196-f6a9a4104387"
      },
      "source": [
        "pwd"
      ],
      "execution_count": 2,
      "outputs": [
        {
          "output_type": "execute_result",
          "data": {
            "application/vnd.google.colaboratory.intrinsic+json": {
              "type": "string"
            },
            "text/plain": [
              "'/content'"
            ]
          },
          "metadata": {
            "tags": []
          },
          "execution_count": 2
        }
      ]
    },
    {
      "cell_type": "markdown",
      "metadata": {
        "id": "208abf1OSSsY"
      },
      "source": [
        "#### upload wheat_bangalore.csv to /content folder"
      ]
    },
    {
      "cell_type": "code",
      "metadata": {
        "colab": {
          "base_uri": "https://localhost:8080/"
        },
        "id": "EWJRcESlSMZy",
        "outputId": "9d67d3e6-dce3-4b90-d883-266d9979c34c"
      },
      "source": [
        "ls"
      ],
      "execution_count": 4,
      "outputs": [
        {
          "output_type": "stream",
          "text": [
            "Wheat_Bangalore.csv\n"
          ],
          "name": "stdout"
        }
      ]
    },
    {
      "cell_type": "code",
      "metadata": {
        "colab": {
          "base_uri": "https://localhost:8080/"
        },
        "id": "yiyBF0acSOHU",
        "outputId": "e8f497ca-2b94-4f68-dc00-d6ea25c50371"
      },
      "source": [
        "# import statements\r\n",
        "from pandas import read_csv, DataFrame, concat, datetime\r\n",
        "from matplotlib import pyplot as plt\r\n",
        "from sklearn.metrics import mean_squared_error\r\n",
        "from numpy import mean\r\n",
        "from math import sqrt"
      ],
      "execution_count": 14,
      "outputs": [
        {
          "output_type": "stream",
          "text": [
            "/usr/local/lib/python3.7/dist-packages/ipykernel_launcher.py:2: FutureWarning: The pandas.datetime class is deprecated and will be removed from pandas in a future version. Import from datetime module instead.\n",
            "  \n"
          ],
          "name": "stderr"
        }
      ]
    },
    {
      "cell_type": "code",
      "metadata": {
        "id": "4CFGkhviSzCb"
      },
      "source": [
        "# date format in data\r\n",
        "dateparser = lambda x: datetime.strptime(x, '%Y-%m-%d')"
      ],
      "execution_count": 6,
      "outputs": []
    },
    {
      "cell_type": "code",
      "metadata": {
        "colab": {
          "base_uri": "https://localhost:8080/",
          "height": 455
        },
        "id": "IaoTTyM1S3kV",
        "outputId": "3f71a204-0a9c-4378-da8b-60d8d0e43c9e"
      },
      "source": [
        "# read data from csv file\r\n",
        "series = read_csv('Wheat_Bangalore.csv', usecols=['Date','MeanPrice(Rs./Quintal)'], header=0, index_col=0, parse_dates=True, date_parser=dateparser)\r\n",
        "series"
      ],
      "execution_count": 9,
      "outputs": [
        {
          "output_type": "execute_result",
          "data": {
            "text/html": [
              "<div>\n",
              "<style scoped>\n",
              "    .dataframe tbody tr th:only-of-type {\n",
              "        vertical-align: middle;\n",
              "    }\n",
              "\n",
              "    .dataframe tbody tr th {\n",
              "        vertical-align: top;\n",
              "    }\n",
              "\n",
              "    .dataframe thead th {\n",
              "        text-align: right;\n",
              "    }\n",
              "</style>\n",
              "<table border=\"1\" class=\"dataframe\">\n",
              "  <thead>\n",
              "    <tr style=\"text-align: right;\">\n",
              "      <th></th>\n",
              "      <th>MeanPrice(Rs./Quintal)</th>\n",
              "    </tr>\n",
              "    <tr>\n",
              "      <th>Date</th>\n",
              "      <th></th>\n",
              "    </tr>\n",
              "  </thead>\n",
              "  <tbody>\n",
              "    <tr>\n",
              "      <th>2002-01-01</th>\n",
              "      <td>1100</td>\n",
              "    </tr>\n",
              "    <tr>\n",
              "      <th>2002-06-01</th>\n",
              "      <td>1200</td>\n",
              "    </tr>\n",
              "    <tr>\n",
              "      <th>2002-07-01</th>\n",
              "      <td>1184</td>\n",
              "    </tr>\n",
              "    <tr>\n",
              "      <th>2002-08-01</th>\n",
              "      <td>1176</td>\n",
              "    </tr>\n",
              "    <tr>\n",
              "      <th>2002-11-01</th>\n",
              "      <td>1150</td>\n",
              "    </tr>\n",
              "    <tr>\n",
              "      <th>...</th>\n",
              "      <td>...</td>\n",
              "    </tr>\n",
              "    <tr>\n",
              "      <th>2019-06-01</th>\n",
              "      <td>2900</td>\n",
              "    </tr>\n",
              "    <tr>\n",
              "      <th>2019-07-01</th>\n",
              "      <td>2900</td>\n",
              "    </tr>\n",
              "    <tr>\n",
              "      <th>2019-08-01</th>\n",
              "      <td>2900</td>\n",
              "    </tr>\n",
              "    <tr>\n",
              "      <th>2019-11-01</th>\n",
              "      <td>3014</td>\n",
              "    </tr>\n",
              "    <tr>\n",
              "      <th>2019-12-01</th>\n",
              "      <td>2700</td>\n",
              "    </tr>\n",
              "  </tbody>\n",
              "</table>\n",
              "<p>106 rows × 1 columns</p>\n",
              "</div>"
            ],
            "text/plain": [
              "            MeanPrice(Rs./Quintal)\n",
              "Date                              \n",
              "2002-01-01                    1100\n",
              "2002-06-01                    1200\n",
              "2002-07-01                    1184\n",
              "2002-08-01                    1176\n",
              "2002-11-01                    1150\n",
              "...                            ...\n",
              "2019-06-01                    2900\n",
              "2019-07-01                    2900\n",
              "2019-08-01                    2900\n",
              "2019-11-01                    3014\n",
              "2019-12-01                    2700\n",
              "\n",
              "[106 rows x 1 columns]"
            ]
          },
          "metadata": {
            "tags": []
          },
          "execution_count": 9
        }
      ]
    },
    {
      "cell_type": "code",
      "metadata": {
        "id": "mnXVxj1eTD6y"
      },
      "source": [
        "# prepare data\r\n",
        "X = series.values\r\n",
        "window = 3\r\n",
        "history = [X[i] for i in range(window)]\r\n",
        "test = [X[i] for i in range(window,len(X))]\r\n",
        "predictions = list()"
      ],
      "execution_count": 12,
      "outputs": []
    },
    {
      "cell_type": "code",
      "metadata": {
        "colab": {
          "base_uri": "https://localhost:8080/"
        },
        "id": "JZIKaELKTZ0j",
        "outputId": "47b0c622-b303-4f95-bb96-c3f9ef26cdbe"
      },
      "source": [
        "# make predictions\r\n",
        "for t in range(len(test)):\r\n",
        "  length = len(history)\r\n",
        "  y_predicted = mean([history[i] for i in range(length-window, length)])\r\n",
        "  obs = test[t]\r\n",
        "  \r\n",
        "  predictions.append(y_predicted)\r\n",
        "  history.append(obs)\r\n",
        "  \r\n",
        "  print('predicted = %f actual = %f' % (y_predicted,obs))"
      ],
      "execution_count": 13,
      "outputs": [
        {
          "output_type": "stream",
          "text": [
            "predicted = 1161.333333 actual = 1176.000000\n",
            "predicted = 1186.666667 actual = 1150.000000\n",
            "predicted = 1170.000000 actual = 1150.000000\n",
            "predicted = 1158.666667 actual = 1150.000000\n",
            "predicted = 1150.000000 actual = 1100.000000\n",
            "predicted = 1133.333333 actual = 1100.000000\n",
            "predicted = 1116.666667 actual = 1100.000000\n",
            "predicted = 1100.000000 actual = 1100.000000\n",
            "predicted = 1100.000000 actual = 1232.000000\n",
            "predicted = 1144.000000 actual = 1350.000000\n",
            "predicted = 1227.333333 actual = 1063.000000\n",
            "predicted = 1215.000000 actual = 1021.000000\n",
            "predicted = 1144.666667 actual = 1000.000000\n",
            "predicted = 1028.000000 actual = 1002.000000\n",
            "predicted = 1007.666667 actual = 1000.000000\n",
            "predicted = 1000.666667 actual = 1021.000000\n",
            "predicted = 1007.666667 actual = 1059.000000\n",
            "predicted = 1026.666667 actual = 1100.000000\n",
            "predicted = 1060.000000 actual = 1104.000000\n",
            "predicted = 1087.666667 actual = 1326.000000\n",
            "predicted = 1176.666667 actual = 1370.000000\n",
            "predicted = 1266.666667 actual = 1260.000000\n",
            "predicted = 1318.666667 actual = 1687.000000\n",
            "predicted = 1439.000000 actual = 1462.000000\n",
            "predicted = 1469.666667 actual = 1455.000000\n",
            "predicted = 1534.666667 actual = 1765.000000\n",
            "predicted = 1560.666667 actual = 1813.000000\n",
            "predicted = 1677.666667 actual = 1767.000000\n",
            "predicted = 1781.666667 actual = 1277.000000\n",
            "predicted = 1619.000000 actual = 1261.000000\n",
            "predicted = 1435.000000 actual = 1403.000000\n",
            "predicted = 1313.666667 actual = 1420.000000\n",
            "predicted = 1361.333333 actual = 1420.000000\n",
            "predicted = 1414.333333 actual = 1420.000000\n",
            "predicted = 1420.000000 actual = 1575.000000\n",
            "predicted = 1471.666667 actual = 1591.000000\n",
            "predicted = 1528.666667 actual = 1600.000000\n",
            "predicted = 1588.666667 actual = 1600.000000\n",
            "predicted = 1597.000000 actual = 1590.000000\n",
            "predicted = 1596.666667 actual = 1586.000000\n",
            "predicted = 1592.000000 actual = 1709.000000\n",
            "predicted = 1628.333333 actual = 1829.000000\n",
            "predicted = 1708.000000 actual = 1900.000000\n",
            "predicted = 1812.666667 actual = 1950.000000\n",
            "predicted = 1893.000000 actual = 1934.000000\n",
            "predicted = 1928.000000 actual = 1902.000000\n",
            "predicted = 1928.666667 actual = 1896.000000\n",
            "predicted = 1910.666667 actual = 1950.000000\n",
            "predicted = 1916.000000 actual = 2044.000000\n",
            "predicted = 1963.333333 actual = 1850.000000\n",
            "predicted = 1948.000000 actual = 1886.000000\n",
            "predicted = 1926.666667 actual = 1945.000000\n",
            "predicted = 1893.666667 actual = 1957.000000\n",
            "predicted = 1929.333333 actual = 1929.000000\n",
            "predicted = 1943.666667 actual = 1922.000000\n",
            "predicted = 1936.000000 actual = 1675.000000\n",
            "predicted = 1842.000000 actual = 1727.000000\n",
            "predicted = 1774.666667 actual = 1637.000000\n",
            "predicted = 1679.666667 actual = 1986.000000\n",
            "predicted = 1783.333333 actual = 2028.000000\n",
            "predicted = 1883.666667 actual = 2118.000000\n",
            "predicted = 2044.000000 actual = 2000.000000\n",
            "predicted = 2048.666667 actual = 2269.000000\n",
            "predicted = 2129.000000 actual = 2230.000000\n",
            "predicted = 2166.333333 actual = 2324.000000\n",
            "predicted = 2274.333333 actual = 2294.000000\n",
            "predicted = 2282.666667 actual = 2315.000000\n",
            "predicted = 2311.000000 actual = 2425.000000\n",
            "predicted = 2344.666667 actual = 2623.000000\n",
            "predicted = 2454.333333 actual = 2661.000000\n",
            "predicted = 2569.666667 actual = 2463.000000\n",
            "predicted = 2582.333333 actual = 2545.000000\n",
            "predicted = 2556.333333 actual = 2536.000000\n",
            "predicted = 2514.666667 actual = 2640.000000\n",
            "predicted = 2573.666667 actual = 2671.000000\n",
            "predicted = 2615.666667 actual = 2768.000000\n",
            "predicted = 2693.000000 actual = 2766.000000\n",
            "predicted = 2735.000000 actual = 2892.000000\n",
            "predicted = 2808.666667 actual = 2900.000000\n",
            "predicted = 2852.666667 actual = 2900.000000\n",
            "predicted = 2897.333333 actual = 2807.000000\n",
            "predicted = 2869.000000 actual = 2750.000000\n",
            "predicted = 2819.000000 actual = 2822.000000\n",
            "predicted = 2793.000000 actual = 3015.000000\n",
            "predicted = 2862.333333 actual = 2906.000000\n",
            "predicted = 2914.333333 actual = 3105.000000\n",
            "predicted = 3008.666667 actual = 2785.000000\n",
            "predicted = 2932.000000 actual = 2944.000000\n",
            "predicted = 2944.666667 actual = 3032.000000\n",
            "predicted = 2920.333333 actual = 2572.000000\n",
            "predicted = 2849.333333 actual = 2800.000000\n",
            "predicted = 2801.333333 actual = 2800.000000\n",
            "predicted = 2724.000000 actual = 2713.000000\n",
            "predicted = 2771.000000 actual = 2700.000000\n",
            "predicted = 2737.666667 actual = 2700.000000\n",
            "predicted = 2704.333333 actual = 2750.000000\n",
            "predicted = 2716.666667 actual = 2750.000000\n",
            "predicted = 2733.333333 actual = 2750.000000\n",
            "predicted = 2750.000000 actual = 2900.000000\n",
            "predicted = 2800.000000 actual = 2900.000000\n",
            "predicted = 2850.000000 actual = 2900.000000\n",
            "predicted = 2900.000000 actual = 3014.000000\n",
            "predicted = 2938.000000 actual = 2700.000000\n"
          ],
          "name": "stdout"
        }
      ]
    },
    {
      "cell_type": "code",
      "metadata": {
        "colab": {
          "base_uri": "https://localhost:8080/"
        },
        "id": "LYjF02viUMbs",
        "outputId": "40dede2a-1085-4e9f-9161-8eb40d27f18a"
      },
      "source": [
        "# error calculation\r\n",
        "rmse = sqrt(mean_squared_error(test, predictions))\r\n",
        "print(f'RMSE = {rmse}')"
      ],
      "execution_count": 15,
      "outputs": [
        {
          "output_type": "stream",
          "text": [
            "RMSE = 144.47675930952536\n"
          ],
          "name": "stdout"
        }
      ]
    },
    {
      "cell_type": "code",
      "metadata": {
        "colab": {
          "base_uri": "https://localhost:8080/",
          "height": 265
        },
        "id": "uGyLYipSUmPS",
        "outputId": "926a14a9-9140-4d22-d358-649a8b9cb72b"
      },
      "source": [
        "# plot actual values and predicted values\r\n",
        "plt.plot(test, label='Actual')\r\n",
        "plt.plot(predictions, color='red', label='Predicted')\r\n",
        "plt.legend()\r\n",
        "plt.show()"
      ],
      "execution_count": 16,
      "outputs": [
        {
          "output_type": "display_data",
          "data": {
            "image/png": "[encoded data removed]",
            "text/plain": [
              "<Figure size 432x288 with 1 Axes>"
            ]
          },
          "metadata": {
            "tags": [],
            "needs_background": "light"
          }
        }
      ]
    },
    {
      "cell_type": "code",
      "metadata": {
        "colab": {
          "base_uri": "https://localhost:8080/",
          "height": 265
        },
        "id": "jNGuG9xRU_E-",
        "outputId": "8b564298-fea5-4e79-e76f-d0ef1650676c"
      },
      "source": [
        "# plot last 7 values\r\n",
        "plt.plot(test[-8:-1], label='Actual')\r\n",
        "plt.plot(predictions[-8:-1], color='red', label='Predicted')\r\n",
        "plt.legend()\r\n",
        "plt.show()"
      ],
      "execution_count": 25,
      "outputs": [
        {
          "output_type": "display_data",
          "data": {
            "image/png": "[encoded data removed]",
            "text/plain": [
              "<Figure size 432x288 with 1 Axes>"
            ]
          },
          "metadata": {
            "tags": [],
            "needs_background": "light"
          }
        }
      ]
    }
  ]
}