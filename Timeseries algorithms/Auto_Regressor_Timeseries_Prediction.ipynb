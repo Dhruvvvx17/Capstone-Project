{
  "nbformat": 4,
  "nbformat_minor": 0,
  "metadata": {
    "colab": {
      "name": "Auto Regressor - Timeseries Prediction.ipynb",
      "provenance": []
    },
    "kernelspec": {
      "name": "python3",
      "display_name": "Python 3"
    }
  },
  "cells": [
    {
      "cell_type": "code",
      "metadata": {
        "id": "U7AkiB7Ow2ad"
      },
      "source": [
        "rm -rf sample_data/"
      ],
      "execution_count": 1,
      "outputs": []
    },
    {
      "cell_type": "code",
      "metadata": {
        "colab": {
          "base_uri": "https://localhost:8080/",
          "height": 36
        },
        "id": "Io4HkBkKxFfR",
        "outputId": "e11ce53b-548d-49a6-8924-4e64f8fc60d6"
      },
      "source": [
        "pwd"
      ],
      "execution_count": 2,
      "outputs": [
        {
          "output_type": "execute_result",
          "data": {
            "application/vnd.google.colaboratory.intrinsic+json": {
              "type": "string"
            },
            "text/plain": [
              "'/content'"
            ]
          },
          "metadata": {
            "tags": []
          },
          "execution_count": 2
        }
      ]
    },
    {
      "cell_type": "markdown",
      "metadata": {
        "id": "I0TTEXo4SYe4"
      },
      "source": [
        "#### upload wheat_bangalore.csv to /content folder"
      ]
    },
    {
      "cell_type": "code",
      "metadata": {
        "colab": {
          "base_uri": "https://localhost:8080/"
        },
        "id": "pQxsBaOhxH07",
        "outputId": "1f27691c-c2ae-4a26-d53f-8e0bc817f6e6"
      },
      "source": [
        "ls"
      ],
      "execution_count": 3,
      "outputs": [
        {
          "output_type": "stream",
          "text": [
            "Wheat_Bangalore.csv\n"
          ],
          "name": "stdout"
        }
      ]
    },
    {
      "cell_type": "code",
      "metadata": {
        "colab": {
          "base_uri": "https://localhost:8080/",
          "height": 399
        },
        "id": "hJnyNshByx36",
        "outputId": "0b914ac6-cb78-43c1-8701-d2d3dffda869"
      },
      "source": [
        "pip install statsmodels --upgrade"
      ],
      "execution_count": 8,
      "outputs": [
        {
          "output_type": "stream",
          "text": [
            "Collecting statsmodels\n",
            "\u001b[?25l  Downloading https://files.pythonhosted.org/packages/da/69/8eef30a6237c54f3c0b524140e2975f4b1eea3489b45eb3339574fc8acee/statsmodels-0.12.2-cp37-cp37m-manylinux1_x86_64.whl (9.5MB)\n",
            "\u001b[K     |████████████████████████████████| 9.5MB 6.9MB/s \n",
            "\u001b[?25hRequirement already satisfied, skipping upgrade: patsy>=0.5 in /usr/local/lib/python3.7/dist-packages (from statsmodels) (0.5.1)\n",
            "Requirement already satisfied, skipping upgrade: numpy>=1.15 in /usr/local/lib/python3.7/dist-packages (from statsmodels) (1.19.5)\n",
            "Requirement already satisfied, skipping upgrade: pandas>=0.21 in /usr/local/lib/python3.7/dist-packages (from statsmodels) (1.1.5)\n",
            "Requirement already satisfied, skipping upgrade: scipy>=1.1 in /usr/local/lib/python3.7/dist-packages (from statsmodels) (1.4.1)\n",
            "Requirement already satisfied, skipping upgrade: six in /usr/local/lib/python3.7/dist-packages (from patsy>=0.5->statsmodels) (1.15.0)\n",
            "Requirement already satisfied, skipping upgrade: python-dateutil>=2.7.3 in /usr/local/lib/python3.7/dist-packages (from pandas>=0.21->statsmodels) (2.8.1)\n",
            "Requirement already satisfied, skipping upgrade: pytz>=2017.2 in /usr/local/lib/python3.7/dist-packages (from pandas>=0.21->statsmodels) (2018.9)\n",
            "Installing collected packages: statsmodels\n",
            "  Found existing installation: statsmodels 0.10.2\n",
            "    Uninstalling statsmodels-0.10.2:\n",
            "      Successfully uninstalled statsmodels-0.10.2\n",
            "Successfully installed statsmodels-0.12.2\n"
          ],
          "name": "stdout"
        },
        {
          "output_type": "display_data",
          "data": {
            "application/vnd.colab-display-data+json": {
              "pip_warning": {
                "packages": [
                  "statsmodels"
                ]
              }
            }
          },
          "metadata": {
            "tags": []
          }
        }
      ]
    },
    {
      "cell_type": "code",
      "metadata": {
        "id": "hiQZNeZ7xNkk"
      },
      "source": [
        "# import statements\r\n",
        "import pandas as pd\r\n",
        "from matplotlib import pyplot as plt\r\n",
        "from statsmodels.tsa.ar_model import AutoReg\r\n",
        "from sklearn.metrics import mean_squared_error\r\n",
        "from math import sqrt\r\n",
        "from datetime import datetime"
      ],
      "execution_count": 54,
      "outputs": []
    },
    {
      "cell_type": "code",
      "metadata": {
        "id": "aDXjkRWpyekr"
      },
      "source": [
        "# date format in data\r\n",
        "dateparser = lambda x: datetime.strptime(x, '%Y-%m-%d')"
      ],
      "execution_count": 55,
      "outputs": []
    },
    {
      "cell_type": "code",
      "metadata": {
        "colab": {
          "base_uri": "https://localhost:8080/"
        },
        "id": "Ow96VNj0ziPV",
        "outputId": "0890f2e3-c6d0-4433-8f63-8aea5892348f"
      },
      "source": [
        "# read data from csv file\r\n",
        "series = pd.read_csv('Wheat_Bangalore.csv', usecols=['Date','MeanPrice(Rs./Quintal)'],index_col=0, parse_dates=['Date'], date_parser=dateparser, squeeze=True)\r\n",
        "series"
      ],
      "execution_count": 56,
      "outputs": [
        {
          "output_type": "execute_result",
          "data": {
            "text/plain": [
              "Date\n",
              "2002-01-01    1100\n",
              "2002-06-01    1200\n",
              "2002-07-01    1184\n",
              "2002-08-01    1176\n",
              "2002-11-01    1150\n",
              "              ... \n",
              "2019-06-01    2900\n",
              "2019-07-01    2900\n",
              "2019-08-01    2900\n",
              "2019-11-01    3014\n",
              "2019-12-01    2700\n",
              "Name: MeanPrice(Rs./Quintal), Length: 106, dtype: int64"
            ]
          },
          "metadata": {
            "tags": []
          },
          "execution_count": 56
        }
      ]
    },
    {
      "cell_type": "code",
      "metadata": {
        "id": "2LxPFD_eHVXa"
      },
      "source": [
        "# differencing functions\r\n",
        "def difference(dataset, interval=1):\r\n",
        "  return series.diff(interval)\r\n",
        "\r\n",
        "def inverse_difference(history, y_predicted, interval):\r\n",
        "  return y_predicted + history[-interval]"
      ],
      "execution_count": 57,
      "outputs": []
    },
    {
      "cell_type": "code",
      "metadata": {
        "colab": {
          "base_uri": "https://localhost:8080/"
        },
        "id": "Q8QDlBynIKv6",
        "outputId": "94533979-997d-4b4b-8c62-360a445ba9c2"
      },
      "source": [
        "# difference and split dataset\r\n",
        "raw_values = series.values\r\n",
        "X = difference(raw_values,1)  #difference series degree = 1, check \"undertanding timeseries Data.ipynb\"\r\n",
        "\r\n",
        "# keeping last 7 values for testing, rest for training \r\n",
        "train, test = X[1:len(X)-7], X[len(X)-7:]\r\n",
        "print(f\"train\\n: {train}\\n\")\r\n",
        "print(f\"test\\n: {test}\\n\")"
      ],
      "execution_count": 58,
      "outputs": [
        {
          "output_type": "stream",
          "text": [
            "train\n",
            ": Date\n",
            "2002-06-01    100.0\n",
            "2002-07-01    -16.0\n",
            "2002-08-01     -8.0\n",
            "2002-11-01    -26.0\n",
            "2002-12-01      0.0\n",
            "              ...  \n",
            "2018-01-01      0.0\n",
            "2018-06-01    -87.0\n",
            "2018-07-01    -13.0\n",
            "2018-08-01      0.0\n",
            "2018-11-01     50.0\n",
            "Name: MeanPrice(Rs./Quintal), Length: 98, dtype: float64\n",
            "\n",
            "test\n",
            ": Date\n",
            "2018-12-01      0.0\n",
            "2019-01-01      0.0\n",
            "2019-06-01    150.0\n",
            "2019-07-01      0.0\n",
            "2019-08-01      0.0\n",
            "2019-11-01    114.0\n",
            "2019-12-01   -314.0\n",
            "Name: MeanPrice(Rs./Quintal), dtype: float64\n",
            "\n"
          ],
          "name": "stdout"
        }
      ]
    },
    {
      "cell_type": "code",
      "metadata": {
        "colab": {
          "base_uri": "https://localhost:8080/"
        },
        "id": "zuT_XcmaI0Hs",
        "outputId": "9a295755-c375-4346-f801-d6456a52e204"
      },
      "source": [
        "# train auto-regressor\r\n",
        "model = AutoReg(train, lags=1) #check ACF plot to see why lags=1 is taken\r\n",
        "model_fit = model.fit()\r\n",
        "print(f\"Coefficients:\\n{model_fit.params}\")"
      ],
      "execution_count": 59,
      "outputs": [
        {
          "output_type": "stream",
          "text": [
            "Coefficients:\n",
            "intercept                    20.133724\n",
            "MeanPrice(Rs./Quintal).L1    -0.251857\n",
            "dtype: float64\n"
          ],
          "name": "stdout"
        },
        {
          "output_type": "stream",
          "text": [
            "/usr/local/lib/python3.7/dist-packages/statsmodels/tsa/base/tsa_model.py:583: ValueWarning: A date index has been provided, but it has no associated frequency information and so will be ignored when e.g. forecasting.\n",
            "  ' ignored when e.g. forecasting.', ValueWarning)\n",
            "/usr/local/lib/python3.7/dist-packages/statsmodels/tsa/ar_model.py:252: FutureWarning: The parameter names will change after 0.12 is released. Set old_names to False to use the new names now. Set old_names to True to use the old names. \n",
            "  FutureWarning,\n"
          ],
          "name": "stderr"
        }
      ]
    },
    {
      "cell_type": "code",
      "metadata": {
        "colab": {
          "base_uri": "https://localhost:8080/"
        },
        "id": "KJgK7j1FJt2v",
        "outputId": "73737e19-cf79-4a7d-c4fd-c06e41e30d83"
      },
      "source": [
        "# make predictions\r\n",
        "inv_predictions = model_fit.predict(start=len(train), end=len(train)+len(test)-1, dynamic=False).to_list()\r\n",
        "predictions = list()\r\n",
        "actual = list()\r\n",
        "\r\n",
        "for i in range(1,len(inv_predictions)):\r\n",
        "  predictions.append(inverse_difference(raw_values,inv_predictions[i],len(train)-len(test)+i+1))\r\n",
        "  actual.append(inverse_difference(raw_values, test[i], len(train)-len(test)+i+1))\r\n",
        "\r\n",
        "\r\n",
        "for i in range(len(predictions)):\r\n",
        "  print(\"predicted = %f expected = %f\"%(predictions[i],actual[i]))"
      ],
      "execution_count": 60,
      "outputs": [
        {
          "output_type": "stream",
          "text": [
            "predicted = 1081.234503 expected = 1063.000000\n",
            "predicted = 1365.541236 expected = 1500.000000\n",
            "predicted = 1248.219555 expected = 1232.000000\n",
            "predicted = 1116.048715 expected = 1100.000000\n",
            "predicted = 1116.091742 expected = 1214.000000\n",
            "predicted = 1116.080906 expected = 786.000000\n"
          ],
          "name": "stdout"
        },
        {
          "output_type": "stream",
          "text": [
            "/usr/local/lib/python3.7/dist-packages/statsmodels/tsa/base/tsa_model.py:379: ValueWarning: No supported index is available. Prediction results will be given with an integer index beginning at `start`.\n",
            "  ValueWarning)\n",
            "/usr/local/lib/python3.7/dist-packages/statsmodels/tsa/deterministic.py:152: UserWarning: Only PeriodIndexes, DatetimeIndexes with a frequency set, RangesIndexes, and Int64Indexes with a unit increment support extending. The index is set will contain the position relative to the data length.\n",
            "  UserWarning,\n"
          ],
          "name": "stderr"
        }
      ]
    },
    {
      "cell_type": "code",
      "metadata": {
        "colab": {
          "base_uri": "https://localhost:8080/"
        },
        "id": "iqV4Q9qoLJhe",
        "outputId": "ac6b7d43-6cf6-4dd9-8c61-c78712405733"
      },
      "source": [
        "# Error calculation\r\n",
        "rmse = sqrt(mean_squared_error(actual,predictions))\r\n",
        "print(f\"RMSE : {rmse}\")"
      ],
      "execution_count": 61,
      "outputs": [
        {
          "output_type": "stream",
          "text": [
            "RMSE : 151.36695072888486\n"
          ],
          "name": "stdout"
        }
      ]
    },
    {
      "cell_type": "code",
      "metadata": {
        "colab": {
          "base_uri": "https://localhost:8080/",
          "height": 281
        },
        "id": "C13QAt-YQS_B",
        "outputId": "158a9173-d58f-4d24-d90e-221957c021bd"
      },
      "source": [
        "plt.title(\"Auto regressor\")\r\n",
        "plt.plot(actual, label=\"actual\")\r\n",
        "plt.plot(predictions, label=\"predictions\")\r\n",
        "plt.legend()\r\n",
        "plt.show()"
      ],
      "execution_count": 62,
      "outputs": [
        {
          "output_type": "display_data",
          "data": {
            "image/png": "[encoded data removed]",
            "text/plain": [
              "<Figure size 432x288 with 1 Axes>"
            ]
          },
          "metadata": {
            "tags": [],
            "needs_background": "light"
          }
        }
      ]
    },
    {
      "cell_type": "markdown",
      "metadata": {
        "id": "q3_ixbtYRuN_"
      },
      "source": [
        "-----------------------------------------------------------------"
      ]
    },
    {
      "cell_type": "markdown",
      "metadata": {
        "id": "fx70YQx5RkVl"
      },
      "source": [
        "Try Yule walker estimates to get coefficients (try on differenced series)"
      ]
    }
  ]
}