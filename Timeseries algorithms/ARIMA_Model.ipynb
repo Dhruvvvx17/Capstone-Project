{
  "nbformat": 4,
  "nbformat_minor": 0,
  "metadata": {
    "colab": {
      "name": "ARIMA Model.ipynb",
      "provenance": []
    },
    "kernelspec": {
      "name": "python3",
      "display_name": "Python 3"
    }
  },
  "cells": [
    {
      "cell_type": "code",
      "metadata": {
        "id": "Q8gOZVdSeH2I"
      },
      "source": [
        "rm -rf sample_data/"
      ],
      "execution_count": 1,
      "outputs": []
    },
    {
      "cell_type": "code",
      "metadata": {
        "colab": {
          "base_uri": "https://localhost:8080/",
          "height": 36
        },
        "id": "xzEVI2RFe0da",
        "outputId": "c48e12d6-f654-4e5f-c596-0dcfadbb6762"
      },
      "source": [
        "pwd"
      ],
      "execution_count": 2,
      "outputs": [
        {
          "output_type": "execute_result",
          "data": {
            "application/vnd.google.colaboratory.intrinsic+json": {
              "type": "string"
            },
            "text/plain": [
              "'/content'"
            ]
          },
          "metadata": {
            "tags": []
          },
          "execution_count": 2
        }
      ]
    },
    {
      "cell_type": "markdown",
      "metadata": {
        "id": "GZes8DXwe4iI"
      },
      "source": [
        "#### upload wheat_bangalore.csv to /content folder"
      ]
    },
    {
      "cell_type": "code",
      "metadata": {
        "colab": {
          "base_uri": "https://localhost:8080/"
        },
        "id": "WYCW9lUEe2bW",
        "outputId": "319edcab-b6f9-48eb-f27d-1e69b285d450"
      },
      "source": [
        "ls"
      ],
      "execution_count": 4,
      "outputs": [
        {
          "output_type": "stream",
          "text": [
            "Wheat_Bangalore.csv\n"
          ],
          "name": "stdout"
        }
      ]
    },
    {
      "cell_type": "code",
      "metadata": {
        "colab": {
          "base_uri": "https://localhost:8080/"
        },
        "id": "Rqv1Ygece6FE",
        "outputId": "2d7c1506-4cc7-4c9a-b5c3-cc29d8d85423"
      },
      "source": [
        "pip install statsmodels --upgrade"
      ],
      "execution_count": 5,
      "outputs": [
        {
          "output_type": "stream",
          "text": [
            "Collecting statsmodels\n",
            "\u001b[?25l  Downloading https://files.pythonhosted.org/packages/da/69/8eef30a6237c54f3c0b524140e2975f4b1eea3489b45eb3339574fc8acee/statsmodels-0.12.2-cp37-cp37m-manylinux1_x86_64.whl (9.5MB)\n",
            "\u001b[K     |████████████████████████████████| 9.5MB 7.8MB/s \n",
            "\u001b[?25hRequirement already satisfied, skipping upgrade: numpy>=1.15 in /usr/local/lib/python3.7/dist-packages (from statsmodels) (1.19.5)\n",
            "Requirement already satisfied, skipping upgrade: pandas>=0.21 in /usr/local/lib/python3.7/dist-packages (from statsmodels) (1.1.5)\n",
            "Requirement already satisfied, skipping upgrade: scipy>=1.1 in /usr/local/lib/python3.7/dist-packages (from statsmodels) (1.4.1)\n",
            "Requirement already satisfied, skipping upgrade: patsy>=0.5 in /usr/local/lib/python3.7/dist-packages (from statsmodels) (0.5.1)\n",
            "Requirement already satisfied, skipping upgrade: pytz>=2017.2 in /usr/local/lib/python3.7/dist-packages (from pandas>=0.21->statsmodels) (2018.9)\n",
            "Requirement already satisfied, skipping upgrade: python-dateutil>=2.7.3 in /usr/local/lib/python3.7/dist-packages (from pandas>=0.21->statsmodels) (2.8.1)\n",
            "Requirement already satisfied, skipping upgrade: six in /usr/local/lib/python3.7/dist-packages (from patsy>=0.5->statsmodels) (1.15.0)\n",
            "Installing collected packages: statsmodels\n",
            "  Found existing installation: statsmodels 0.10.2\n",
            "    Uninstalling statsmodels-0.10.2:\n",
            "      Successfully uninstalled statsmodels-0.10.2\n",
            "Successfully installed statsmodels-0.12.2\n"
          ],
          "name": "stdout"
        }
      ]
    },
    {
      "cell_type": "code",
      "metadata": {
        "colab": {
          "base_uri": "https://localhost:8080/"
        },
        "id": "-EbqWH3UfBMV",
        "outputId": "1b8045f1-030c-4481-b352-53a5e92eb26c"
      },
      "source": [
        "from pandas import datetime, read_csv, DataFrame\r\n",
        "from statsmodels.tsa.arima.model import ARIMA\r\n",
        "from matplotlib import pyplot as plt\r\n",
        "from sklearn.metrics import mean_squared_error\r\n",
        "from math import sqrt"
      ],
      "execution_count": 6,
      "outputs": [
        {
          "output_type": "stream",
          "text": [
            "/usr/local/lib/python3.7/dist-packages/ipykernel_launcher.py:1: FutureWarning: The pandas.datetime class is deprecated and will be removed from pandas in a future version. Import from datetime module instead.\n",
            "  \"\"\"Entry point for launching an IPython kernel.\n"
          ],
          "name": "stderr"
        }
      ]
    },
    {
      "cell_type": "code",
      "metadata": {
        "id": "vKmgoXijfJvd"
      },
      "source": [
        "# date format in data\r\n",
        "dateparser = lambda x: datetime.strptime(x, '%Y-%m-%d')"
      ],
      "execution_count": 7,
      "outputs": []
    },
    {
      "cell_type": "code",
      "metadata": {
        "colab": {
          "base_uri": "https://localhost:8080/"
        },
        "id": "raHkWg2SfLzJ",
        "outputId": "6bb2936b-6a68-4c02-d0f3-ff44d0bb7fc8"
      },
      "source": [
        "# read data from csv file\r\n",
        "series = read_csv('Wheat_Bangalore.csv', usecols=['Date','MeanPrice(Rs./Quintal)'], index_col=0, parse_dates=True, date_parser=dateparser, squeeze=True)\r\n",
        "series"
      ],
      "execution_count": 8,
      "outputs": [
        {
          "output_type": "execute_result",
          "data": {
            "text/plain": [
              "Date\n",
              "2002-01-01    1100\n",
              "2002-06-01    1200\n",
              "2002-07-01    1184\n",
              "2002-08-01    1176\n",
              "2002-11-01    1150\n",
              "              ... \n",
              "2019-06-01    2900\n",
              "2019-07-01    2900\n",
              "2019-08-01    2900\n",
              "2019-11-01    3014\n",
              "2019-12-01    2700\n",
              "Name: MeanPrice(Rs./Quintal), Length: 106, dtype: int64"
            ]
          },
          "metadata": {
            "tags": []
          },
          "execution_count": 8
        }
      ]
    },
    {
      "cell_type": "code",
      "metadata": {
        "id": "hKBs9XIqfOOt"
      },
      "source": [
        "series.index = series.index.to_period('d')"
      ],
      "execution_count": 9,
      "outputs": []
    },
    {
      "cell_type": "code",
      "metadata": {
        "colab": {
          "base_uri": "https://localhost:8080/"
        },
        "id": "zfxmp01hfQeS",
        "outputId": "796328bd-fd5f-4725-df17-7fed819e3880"
      },
      "source": [
        "# divide into test and train\r\n",
        "X = series.values\r\n",
        "train, test = X[1:len(X)-7], X[len(X)-7:]\r\n",
        "print(series)"
      ],
      "execution_count": 10,
      "outputs": [
        {
          "output_type": "stream",
          "text": [
            "Date\n",
            "2002-01-01    1100\n",
            "2002-06-01    1200\n",
            "2002-07-01    1184\n",
            "2002-08-01    1176\n",
            "2002-11-01    1150\n",
            "              ... \n",
            "2019-06-01    2900\n",
            "2019-07-01    2900\n",
            "2019-08-01    2900\n",
            "2019-11-01    3014\n",
            "2019-12-01    2700\n",
            "Freq: D, Name: MeanPrice(Rs./Quintal), Length: 106, dtype: int64\n"
          ],
          "name": "stdout"
        }
      ]
    },
    {
      "cell_type": "code",
      "metadata": {
        "colab": {
          "base_uri": "https://localhost:8080/"
        },
        "id": "avXAtvWBfS8S",
        "outputId": "d9958503-c3ed-45a6-8172-b412f4676b2e"
      },
      "source": [
        "# For a non-differenced series, \r\n",
        "# the number of lags for AR = 9 (from ACF)\r\n",
        "# number of lags for MA = 1 (from PACF)\r\n",
        "# difference order = 1 or 2 (from ADF statistics)\r\n",
        "# check \"undertanding timeseries Data.ipynb\"\r\n",
        "model = ARIMA(train, order = (9,2,1))\r\n",
        "model_fit = model.fit()\r\n",
        "print(model_fit.summary())"
      ],
      "execution_count": 23,
      "outputs": [
        {
          "output_type": "stream",
          "text": [
            "/usr/local/lib/python3.7/dist-packages/statsmodels/tsa/statespace/sarimax.py:966: UserWarning: Non-stationary starting autoregressive parameters found. Using zeros as starting parameters.\n",
            "  warn('Non-stationary starting autoregressive parameters'\n"
          ],
          "name": "stderr"
        },
        {
          "output_type": "stream",
          "text": [
            "                               SARIMAX Results                                \n",
            "==============================================================================\n",
            "Dep. Variable:                      y   No. Observations:                   98\n",
            "Model:                 ARIMA(9, 2, 1)   Log Likelihood                -606.538\n",
            "Date:                Sat, 27 Feb 2021   AIC                           1235.076\n",
            "Time:                        12:39:14   BIC                           1263.284\n",
            "Sample:                             0   HQIC                          1246.478\n",
            "                                 - 98                                         \n",
            "Covariance Type:                  opg                                         \n",
            "==============================================================================\n",
            "                 coef    std err          z      P>|z|      [0.025      0.975]\n",
            "------------------------------------------------------------------------------\n",
            "ar.L1         -0.2758      0.129     -2.137      0.033      -0.529      -0.023\n",
            "ar.L2         -0.1456      0.159     -0.917      0.359      -0.457       0.166\n",
            "ar.L3         -0.0656      0.106     -0.620      0.535      -0.273       0.142\n",
            "ar.L4         -0.0470      0.151     -0.311      0.756      -0.343       0.249\n",
            "ar.L5          0.0608      0.206      0.295      0.768      -0.342       0.464\n",
            "ar.L6         -0.0284      0.103     -0.277      0.782      -0.230       0.173\n",
            "ar.L7         -0.0798      0.159     -0.502      0.616      -0.391       0.232\n",
            "ar.L8          0.0134      0.234      0.057      0.954      -0.445       0.472\n",
            "ar.L9         -0.0770      0.139     -0.554      0.580      -0.350       0.196\n",
            "ma.L1         -0.9999     16.906     -0.059      0.953     -34.135      32.135\n",
            "sigma2      1.697e+04   2.87e+05      0.059      0.953   -5.46e+05     5.8e+05\n",
            "===================================================================================\n",
            "Ljung-Box (L1) (Q):                   0.02   Jarque-Bera (JB):                39.85\n",
            "Prob(Q):                              0.89   Prob(JB):                         0.00\n",
            "Heteroskedasticity (H):               0.78   Skew:                            -0.64\n",
            "Prob(H) (two-sided):                  0.49   Kurtosis:                         5.88\n",
            "===================================================================================\n",
            "\n",
            "Warnings:\n",
            "[1] Covariance matrix calculated using the outer product of gradients (complex-step).\n"
          ],
          "name": "stdout"
        }
      ]
    },
    {
      "cell_type": "code",
      "metadata": {
        "colab": {
          "base_uri": "https://localhost:8080/"
        },
        "id": "qv1gAtGrffuX",
        "outputId": "5cfce3d9-0287-4c01-b025-73555dbd7bf9"
      },
      "source": [
        "# make predictions\r\n",
        "predictions = model_fit.predict(start=len(train), end=len(train)+len(test)-1, dynamic=False)\r\n",
        "\r\n",
        "for i in range(len(predictions)):\r\n",
        "  print(\"predicted=%f, expected=%f\"%(predictions[i],test[i]))"
      ],
      "execution_count": 24,
      "outputs": [
        {
          "output_type": "stream",
          "text": [
            "predicted=2787.696306, expected=2750.000000\n",
            "predicted=2761.570136, expected=2750.000000\n",
            "predicted=2827.559934, expected=2900.000000\n",
            "predicted=2825.461618, expected=2900.000000\n",
            "predicted=2846.659075, expected=2900.000000\n",
            "predicted=2872.789875, expected=3014.000000\n",
            "predicted=2881.262451, expected=2700.000000\n"
          ],
          "name": "stdout"
        }
      ]
    },
    {
      "cell_type": "code",
      "metadata": {
        "colab": {
          "base_uri": "https://localhost:8080/"
        },
        "id": "JO-_xDcafpdO",
        "outputId": "33b2d41d-6173-4eaf-8377-22e9b7c1acad"
      },
      "source": [
        "# error calculations\r\n",
        "rmse = sqrt(mean_squared_error(test, predictions))\r\n",
        "print(f\"RMSE: {rmse}\")"
      ],
      "execution_count": 25,
      "outputs": [
        {
          "output_type": "stream",
          "text": [
            "RMSE: 98.5611072051124\n"
          ],
          "name": "stdout"
        }
      ]
    },
    {
      "cell_type": "code",
      "metadata": {
        "colab": {
          "base_uri": "https://localhost:8080/",
          "height": 265
        },
        "id": "BBSstbN8fvjd",
        "outputId": "796e3187-58c4-47c2-f29c-809f9b0870e2"
      },
      "source": [
        "# plot actual values and predicted values\r\n",
        "plt.plot(test, label='Actual')\r\n",
        "plt.plot(predictions, color='red', label='Predicted')\r\n",
        "plt.legend()\r\n",
        "plt.show()"
      ],
      "execution_count": 26,
      "outputs": [
        {
          "output_type": "display_data",
          "data": {
            "image/png": "[encoded data removed]",
            "text/plain": [
              "<Figure size 432x288 with 1 Axes>"
            ]
          },
          "metadata": {
            "tags": [],
            "needs_background": "light"
          }
        }
      ]
    },
    {
      "cell_type": "code",
      "metadata": {
        "id": "z1TxyePyfx8H"
      },
      "source": [
        ""
      ],
      "execution_count": null,
      "outputs": []
    }
  ]
}